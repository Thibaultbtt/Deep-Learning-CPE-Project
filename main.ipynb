{
 "cells": [
  {
   "cell_type": "markdown",
   "metadata": {},
   "source": [
    "# Modèle pour la détermination du type de véhicule\n",
    "\n",
    "### 1. Préparation des données"
   ]
  },
  {
   "cell_type": "markdown",
   "metadata": {},
   "source": [
    "Transformation : Niveau de gris sur tout le dataset"
   ]
  },
  {
   "cell_type": "code",
   "execution_count": null,
   "metadata": {},
   "outputs": [],
   "source": [
    "import cv2, os\n",
    "\n",
    "output_folder = './gray_images'\n",
    "\n",
    "for image_name in os.listdir('./result') :\n",
    "    img = cv2.imread(f'./result/{image_name}')\n",
    "    grayFrame = cv2.cvtColor(img, cv2.COLOR_BGR2GRAY)\n",
    "\n",
    "    output_path = os.path.join(output_folder, image_name)\n",
    "    cv2.imwrite(output_path, grayFrame)\n"
   ]
  },
  {
   "cell_type": "markdown",
   "metadata": {},
   "source": [
    "Transformation : Floutage des images de meilleure qualité"
   ]
  },
  {
   "cell_type": "code",
   "execution_count": null,
   "metadata": {},
   "outputs": [],
   "source": []
  },
  {
   "cell_type": "markdown",
   "metadata": {},
   "source": [
    "Transformation : UpSampling en retournant les images aléatoirement"
   ]
  },
  {
   "cell_type": "code",
   "execution_count": 13,
   "metadata": {},
   "outputs": [],
   "source": [
    "import tensorflow as tf\n",
    "import numpy as np\n",
    "\n",
    "def random_rotate_image(opencv_img):\n",
    "    img = tf.convert_to_tensor(opencv_img, dtype=tf.float32)\n",
    "    img = tf.image.rot90(img)\n",
    "    img = tf.image.random_flip_left_right(img)\n",
    "    img = tf.image.random_flip_up_down(img)\n",
    "\n",
    "    img_rotated = img.numpy().astype(np.uint8)\n",
    "    return img_rotated\n",
    "\n",
    "output_folder = './rotated_gray_images'\n",
    "os.makedirs(output_folder, exist_ok=True)\n",
    "\n",
    "for image_name in os.listdir('./gray_images') :\n",
    "    img = cv2.imread(f'./gray_images/{image_name}')\n",
    "\n",
    "    rotations_list = [random_rotate_image(img), random_rotate_image(img)]\n",
    "    for i, rotated_image in enumerate(rotations_list) :\n",
    "        output_image_name = f\"{os.path.splitext(image_name)[0]}_{i}.png\"\n",
    "        output_path = os.path.join(output_folder, output_image_name)\n",
    "        cv2.imwrite(output_path, rotated_image)"
   ]
  },
  {
   "cell_type": "markdown",
   "metadata": {},
   "source": [
    "Importation des datasets"
   ]
  },
  {
   "cell_type": "code",
   "execution_count": 10,
   "metadata": {},
   "outputs": [
    {
     "name": "stdout",
     "output_type": "stream",
     "text": [
      "Found 1528 files belonging to 1 classes.\n",
      "['cars', 'cars', 'truck', 'cars', 'cars', 'cars', 'cars', 'truck', 'cars', 'truck']\n"
     ]
    }
   ],
   "source": [
    "import os\n",
    "import tensorflow as tf\n",
    "\n",
    "# Définition des chemins pour les fichiers image\n",
    "train_dir = \"./rotated_gray_images\"\n",
    "val_dir = \"\"\n",
    "test_dir = \"\"\n",
    "\n",
    "# Définition des cosntantes \n",
    "batch_size = 32\n",
    "img_height = 224  # Hauteur de l'image (modifiable selon vos besoins)\n",
    "img_width = 224 \n",
    "\n",
    "x_train = tf.keras.utils.image_dataset_from_directory(\n",
    "    train_dir,\n",
    "    image_size=(img_height, img_width),\n",
    "    batch_size=batch_size,\n",
    "    label_mode=None  # Pas de labels automatiques\n",
    "    )\n",
    "\n",
    "file_paths = x_train.file_paths\n",
    "\n",
    "# Extraire les labels depuis les noms de fichiers\n",
    "image_paths = [os.path.basename(path) for path in file_paths]\n",
    "y_train = [path.split('_')[0] for path in image_paths] \n",
    "\n",
    "print(y_train[:10])"
   ]
  },
  {
   "cell_type": "markdown",
   "metadata": {},
   "source": [
    "Création du modèle"
   ]
  },
  {
   "cell_type": "code",
   "execution_count": null,
   "metadata": {},
   "outputs": [],
   "source": []
  }
 ],
 "metadata": {
  "kernelspec": {
   "display_name": ".venv",
   "language": "python",
   "name": "python3"
  },
  "language_info": {
   "codemirror_mode": {
    "name": "ipython",
    "version": 3
   },
   "file_extension": ".py",
   "mimetype": "text/x-python",
   "name": "python",
   "nbconvert_exporter": "python",
   "pygments_lexer": "ipython3",
   "version": "3.8.2"
  }
 },
 "nbformat": 4,
 "nbformat_minor": 2
}
